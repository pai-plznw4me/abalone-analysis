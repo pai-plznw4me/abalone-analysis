{
 "cells": [
  {
   "cell_type": "markdown",
   "source": [
    "# Wando"
   ],
   "metadata": {
    "collapsed": false
   },
   "id": "9dbbb41508a2a76a"
  },
  {
   "cell_type": "code",
   "execution_count": 8,
   "id": "initial_id",
   "metadata": {
    "collapsed": true,
    "ExecuteTime": {
     "end_time": "2023-11-25T00:57:41.492797Z",
     "start_time": "2023-11-25T00:57:41.485704Z"
    }
   },
   "outputs": [],
   "source": [
    "import pandas as pd \n",
    "from src.helper import write_index_in_abalone_center\n",
    "from src.utils import plot_images\n",
    "import numpy as np \n",
    "from src.helper import extract_albarone_polygon_images\n",
    "from src.utils import clahe\n",
    "from PIL import Image \n",
    "import matplotlib.pyplot as plt"
   ]
  },
  {
   "cell_type": "code",
   "execution_count": 5,
   "outputs": [],
   "source": [
    "anno_df = pd.read_csv('./wando_add_meta.csv', index_col=[0], converters={'segmentation': eval})"
   ],
   "metadata": {
    "collapsed": false,
    "ExecuteTime": {
     "end_time": "2023-11-25T00:57:22.652863Z",
     "start_time": "2023-11-25T00:57:22.617019Z"
    }
   },
   "id": "f8cc7bea67c7a1d6"
  },
  {
   "cell_type": "code",
   "execution_count": 12,
   "outputs": [],
   "source": [
    "ply_images, meta_index = extract_albarone_polygon_images(anno_df, region='WANDO', entity='ADULT', size_='BIG', side='f')\n",
    "clahe_images=[clahe(img) for img in ply_images]\n",
    "concat_imgs = [np.concatenate([img, Image.fromarray(cla_img).convert('RGB')], axis=1) for img, cla_img in zip(ply_images,clahe_images)]\n",
    "plot_images(concat_imgs, meta_index)"
   ],
   "metadata": {
    "collapsed": false,
    "ExecuteTime": {
     "end_time": "2023-11-25T00:58:40.112835Z",
     "start_time": "2023-11-25T00:58:36.532716Z"
    }
   },
   "id": "ad64fe316d25f60c"
  },
  {
   "cell_type": "code",
   "execution_count": null,
   "outputs": [],
   "source": [
    "ply_images, meta_index = extract_albarone_polygon_images(anno_df, region='WANDO', entity='ADULT', size_='BIG', side='b')\n",
    "clahe_images=[clahe(img) for img in ply_images]\n",
    "concat_imgs = [np.concatenate([img, Image.fromarray(cla_img).convert('RGB')], axis=1) for img, cla_img in zip(ply_images,clahe_images)]\n",
    "plot_images(concat_imgs, meta_index)"
   ],
   "metadata": {
    "collapsed": false
   },
   "id": "86273fb31b749db8"
  },
  {
   "cell_type": "code",
   "execution_count": null,
   "outputs": [],
   "source": [
    "ply_images, meta_index = extract_albarone_polygon_images(anno_df, region='WANDO', entity='ADULT', size_='SMALL', side='f')\n",
    "clahe_images=[clahe(img) for img in ply_images]\n",
    "concat_imgs = [np.concatenate([img, Image.fromarray(cla_img).convert('RGB')], axis=1) for img, cla_img in zip(ply_images,clahe_images)]\n",
    "plot_images(concat_imgs, meta_index)"
   ],
   "metadata": {
    "collapsed": false
   },
   "id": "2dd81d2550c16a85"
  },
  {
   "cell_type": "code",
   "execution_count": null,
   "outputs": [],
   "source": [
    "ply_images, meta_index = extract_albarone_polygon_images(anno_df, region='WANDO', entity='ADULT', size_='SMALL', side='b')\n",
    "clahe_images=[clahe(img) for img in ply_images]\n",
    "concat_imgs = [np.concatenate([img, Image.fromarray(cla_img).convert('RGB')], axis=1) for img, cla_img in zip(ply_images,clahe_images)]\n",
    "plot_images(concat_imgs, meta_index)"
   ],
   "metadata": {
    "collapsed": false
   },
   "id": "60f5802bb00202a4"
  },
  {
   "cell_type": "code",
   "execution_count": null,
   "outputs": [],
   "source": [
    "ply_images, meta_index = extract_albarone_polygon_images(anno_df, region='WANDO', entity='BABY', size_='BIG', side='f')\n",
    "clahe_images=[clahe(img) for img in ply_images]\n",
    "concat_imgs = [np.concatenate([img, Image.fromarray(cla_img).convert('RGB')], axis=1) for img, cla_img in zip(ply_images,clahe_images)]\n",
    "plot_images(concat_imgs, meta_index)"
   ],
   "metadata": {
    "collapsed": false
   },
   "id": "3a955cff2fd56bd3"
  },
  {
   "cell_type": "code",
   "execution_count": null,
   "outputs": [],
   "source": [
    "ply_images, meta_index = extract_albarone_polygon_images(anno_df, region='WANDO', entity='BABY', size_='BIG', side='b')\n",
    "clahe_images=[clahe(img) for img in ply_images]\n",
    "concat_imgs = [np.concatenate([img, Image.fromarray(cla_img).convert('RGB')], axis=1) for img, cla_img in zip(ply_images,clahe_images)]\n",
    "plot_images(concat_imgs, meta_index)"
   ],
   "metadata": {
    "collapsed": false
   },
   "id": "2a38863e5138059b"
  },
  {
   "cell_type": "code",
   "execution_count": null,
   "outputs": [],
   "source": [
    "ply_images, meta_index = extract_albarone_polygon_images(anno_df, region='WANDO', entity='BABY', size_='SMALL', side='f')\n",
    "clahe_images=[clahe(img) for img in ply_images]\n",
    "concat_imgs = [np.concatenate([img, Image.fromarray(cla_img).convert('RGB')], axis=1) for img, cla_img in zip(ply_images,clahe_images)]\n",
    "plot_images(concat_imgs, meta_index)"
   ],
   "metadata": {
    "collapsed": false
   },
   "id": "c280aaec69242de1"
  },
  {
   "cell_type": "code",
   "execution_count": null,
   "outputs": [],
   "source": [
    "ply_images, meta_index = extract_albarone_polygon_images(anno_df, region='WANDO', entity='BABY', size_='SMALL', side='b')\n",
    "clahe_images=[clahe(img) for img in ply_images]\n",
    "concat_imgs = [np.concatenate([img, Image.fromarray(cla_img).convert('RGB')], axis=1) for img, cla_img in zip(ply_images,clahe_images)]\n",
    "plot_images(concat_imgs, meta_index)"
   ],
   "metadata": {
    "collapsed": false
   },
   "id": "404e81d754a9e9f"
  },
  {
   "cell_type": "markdown",
   "source": [],
   "metadata": {
    "collapsed": false
   },
   "id": "9065d4bdc7d80273"
  },
  {
   "cell_type": "code",
   "execution_count": null,
   "outputs": [],
   "source": [],
   "metadata": {
    "collapsed": false
   },
   "id": "4de20dc6d493ed04"
  }
 ],
 "metadata": {
  "kernelspec": {
   "display_name": "Python 3",
   "language": "python",
   "name": "python3"
  },
  "language_info": {
   "codemirror_mode": {
    "name": "ipython",
    "version": 2
   },
   "file_extension": ".py",
   "mimetype": "text/x-python",
   "name": "python",
   "nbconvert_exporter": "python",
   "pygments_lexer": "ipython2",
   "version": "2.7.6"
  }
 },
 "nbformat": 4,
 "nbformat_minor": 5
}
