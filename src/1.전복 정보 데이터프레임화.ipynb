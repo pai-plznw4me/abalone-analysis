{
 "cells": [
  {
   "cell_type": "code",
   "execution_count": 1,
   "id": "initial_id",
   "metadata": {
    "ExecuteTime": {
     "end_time": "2023-11-26T04:45:38.252387Z",
     "start_time": "2023-11-26T04:45:37.711649Z"
    }
   },
   "outputs": [],
   "source": [
    "import os\n",
    "import pandas as pd\n",
    "from utils import all_image_paths, get_name, all_file_paths, get_names\n",
    "import re\n",
    "import json\n"
   ]
  },
  {
   "cell_type": "code",
   "execution_count": 2,
   "outputs": [],
   "source": [
    "\"\"\"\n",
    "촬영된 이미지에서 1cm^2 당 픽셀의 크기 아래와 같다.  \n",
    "1cm^ = 34 pixel x 34 pixel \n",
    "\"\"\"\n",
    "unit_area = 34 * 34\n"
   ],
   "metadata": {
    "collapsed": false,
    "ExecuteTime": {
     "end_time": "2023-11-26T04:45:38.256875Z",
     "start_time": "2023-11-26T04:45:38.253340Z"
    }
   },
   "id": "4d7d889e1de50907"
  },
  {
   "cell_type": "code",
   "execution_count": 3,
   "outputs": [],
   "source": [
    "# 폴더 경로\n",
    "folder_names = ['JINDO ADULT BIG',\n",
    "                'JINDO ADULT SMALL',\n",
    "                'JINDO BABY BIG',\n",
    "                'JINDO BABY SMALL',\n",
    "                'WANDO ADULT BIG',\n",
    "                'WANDO ADULT SMALL',\n",
    "                'WANDO BABY BIG',\n",
    "                'WANDO BABY SMALL']"
   ],
   "metadata": {
    "collapsed": false,
    "ExecuteTime": {
     "end_time": "2023-11-26T04:45:38.267584Z",
     "start_time": "2023-11-26T04:45:38.256429Z"
    }
   },
   "id": "c2ed364ef9246d12"
  },
  {
   "cell_type": "code",
   "execution_count": 4,
   "outputs": [],
   "source": [
    "map_fname_side = {'36.jpg': \"f\",\n",
    "                  '37.jpg': \"b\",\n",
    "                  '38.jpg': \"f\",\n",
    "                  '39.jpg': \"b\",\n",
    "                  '40.jpg': \"f\",\n",
    "                  '41.jpg': \"b\",\n",
    "                  '42.jpg': \"f\",\n",
    "                  '43.jpg': \"b\",\n",
    "                  '44.jpg': \"f\",\n",
    "                  '45.jpg': \"b\",\n",
    "                  '46.jpg': \"f\",\n",
    "                  '47.jpg': \"b\",\n",
    "                  '71.jpg': \"f\",\n",
    "                  '72.jpg': \"b\",\n",
    "                  '73.jpg': \"f\",\n",
    "                  '74.jpg': \"b\",\n",
    "                  '48.jpg': \"f\",\n",
    "                  '49.jpg': \"b\",\n",
    "                  '58.jpg': \"f\",\n",
    "                  '59.jpg': \"b\",\n",
    "                  '61.jpg': \"f\",\n",
    "                  '62.jpg': \"b\",\n",
    "                  '63.jpg': \"f\",\n",
    "                  '65.jpg': \"b\",\n",
    "                  '66.jpg': \"f\",\n",
    "                  '67.jpg': \"b\",\n",
    "                  '50.jpg': \"f\",\n",
    "                  '51.jpg': \"b\",\n",
    "                  '52.jpg': \"f\",\n",
    "                  '53.jpg': \"b\",\n",
    "                  '54.jpg': \"f\",\n",
    "                  '55.jpg': \"b\",\n",
    "                  '56.jpg': \"f\",\n",
    "                  '57.jpg': \"b\",\n",
    "                  '71.jpg': \"f\",\n",
    "                  '72.jpg': \"b\",\n",
    "                  '73.jpg': \"f\",\n",
    "                  '74.jpg': \"b\",\n",
    "                  '68.jpg': \"f\",\n",
    "                  '69.jpg': \"b\"}"
   ],
   "metadata": {
    "collapsed": false,
    "ExecuteTime": {
     "end_time": "2023-11-26T04:45:38.267889Z",
     "start_time": "2023-11-26T04:45:38.259585Z"
    }
   },
   "id": "8b994069fd921714"
  },
  {
   "cell_type": "code",
   "execution_count": 5,
   "outputs": [],
   "source": [
    "# 폴더 별 image path, anno_paths, json , anno(DataFrame) 을 생성합니다.\n",
    "map_dirname_imapaths = {}\n",
    "map_imgname_region = {}\n",
    "map_imgname_imgpath = {}\n",
    "map_imgname_size = {}\n",
    "map_imgname_entity = {}\n",
    "map_dirname_annopath = {}\n",
    "map_dirname_json = {}  # \n",
    "map_dirname_anno = {}  # \n",
    "\n",
    "valid_anno_paths = []\n",
    "raw_dataset_dir = '../datasets/raw'\n",
    "for folder_name in folder_names:\n",
    "\n",
    "    # folder 이름 규칙 : {Region} {ADULT or BABY} {SMALL or BIG } \n",
    "    region, entity, size = folder_name.split(' ')\n",
    "\n",
    "    # 폴더 별 모든 이미지 경로를 추출, {폴더이름: [파일 경로, 파일 경로1, ...]}\n",
    "    folder_path = os.path.join(raw_dataset_dir, folder_name)\n",
    "    img_paths = all_image_paths(folder_path)\n",
    "    map_dirname_imapaths[folder_name] = img_paths\n",
    "    img_names = get_names(img_paths)\n",
    "\n",
    "    # \n",
    "    map_imgname_imgpath = {name: path for name, path in zip(img_names, img_paths)}\n",
    "\n",
    "    # image 별 region, entity, size 을 저장합니다.    \n",
    "    for img_path in img_paths:\n",
    "        img_name = get_name(img_path)\n",
    "        map_imgname_region[img_name] = region\n",
    "        map_imgname_size[img_name] = size\n",
    "        map_imgname_entity[img_name] = entity\n",
    "\n",
    "    # coco_imglab.json 으로 끝나는 파일경로를 찾아 반환 및 저장\n",
    "    anno_dirpath = os.path.join(folder_path, 'anno')\n",
    "    anno_paths = all_file_paths(anno_dirpath)\n",
    "    pattern = re.compile(r'.*coco_imglab\\.json$')\n",
    "    valid_anno_path = [path for path in anno_paths if pattern.match(path)]\n",
    "    # 리스트 형태여서 리스트를 제거한다. ['../../adfasf'] -> '../../adfasf'\n",
    "    map_dirname_annopath[folder_name] = valid_anno_path[0]\n",
    "\n",
    "    # coco format 을 json 으로 읽어와 python dict 변수에 저장\n",
    "    f = open(valid_anno_path[0])\n",
    "    json_obj = json.load(f)\n",
    "    map_dirname_json[folder_name] = json_obj\n",
    "\n",
    "    # json 을 DataFrame 로 변환 \n",
    "    image_df = pd.DataFrame(json_obj['images'])\n",
    "    map_imgid_fname = {id: fname for fname, id in zip(image_df['file_name'], image_df['id'])}\n",
    "    sample_df = pd.DataFrame(json_obj['annotations'])\n",
    "\n",
    "    # df 내 area 가 10 이하 오류 데이터는 삭제함\n",
    "    mask = sample_df.area < 1\n",
    "    sample_df = sample_df.loc[~mask, :]\n",
    "\n",
    "    # Column 추가 df 내 image id 을 파일 명으로 교체함\n",
    "    sample_df.loc[:, ['image_id']] = sample_df.loc[:, ['image_id']].replace(map_imgid_fname)\n",
    "    sample_df['region'] = sample_df.loc[:, ['image_id']].replace(map_imgname_region)\n",
    "    sample_df['size_'] = sample_df.loc[:, ['image_id']].replace(map_imgname_size)\n",
    "    sample_df['entity'] = sample_df.loc[:, ['image_id']].replace(map_imgname_entity)\n",
    "    sample_df['side'] = sample_df.loc[:, ['image_id']].replace(map_fname_side)\n",
    "    sample_df['image_path'] = sample_df.loc[:, ['image_id']].replace(map_imgname_imgpath)\n",
    "    sample_df['abs_area'] = sample_df.loc[:, ['area']] / unit_area\n",
    "    \n",
    "    # 이미지가 존재하지 않는 annotation 은 제거 합니다. (35.jpg, 60.jpg, 64.jpg 제거) -> (35.jpg, 61.jpg, 65.jpg 제거) \n",
    "    mask = sample_df.image_id.isin(img_names)\n",
    "    sample_df = sample_df.loc[mask]\n",
    "\n",
    "    # anno 저장\n",
    "    map_dirname_anno[folder_name] = sample_df\n",
    "assert len(map_dirname_annopath) == len(folder_names)\n"
   ],
   "metadata": {
    "collapsed": false,
    "ExecuteTime": {
     "end_time": "2023-11-26T04:45:38.316330Z",
     "start_time": "2023-11-26T04:45:38.266845Z"
    }
   },
   "id": "cbad16236256438c"
  },
  {
   "cell_type": "code",
   "execution_count": 6,
   "outputs": [],
   "source": [
    "# 모든 anno_df 을 하나로 모음\n",
    "anno_df = pd.concat(map_dirname_anno.values())\n",
    "anno_df = anno_df.reset_index(drop=True)"
   ],
   "metadata": {
    "collapsed": false,
    "ExecuteTime": {
     "end_time": "2023-11-26T04:45:38.320790Z",
     "start_time": "2023-11-26T04:45:38.317188Z"
    }
   },
   "id": "10a72d9d36e1daaa"
  },
  {
   "cell_type": "code",
   "execution_count": 7,
   "outputs": [],
   "source": [
    "anno_df.to_csv('../datasets/anno.csv')"
   ],
   "metadata": {
    "collapsed": false,
    "ExecuteTime": {
     "end_time": "2023-11-26T04:45:42.670698Z",
     "start_time": "2023-11-26T04:45:42.639175Z"
    }
   },
   "id": "9233d57124d44daa"
  }
 ],
 "metadata": {
  "kernelspec": {
   "display_name": "Python 3 (ipykernel)",
   "language": "python",
   "name": "python3"
  },
  "language_info": {
   "codemirror_mode": {
    "name": "ipython",
    "version": 3
   },
   "file_extension": ".py",
   "mimetype": "text/x-python",
   "name": "python",
   "nbconvert_exporter": "python",
   "pygments_lexer": "ipython3",
   "version": "3.9.18"
  }
 },
 "nbformat": 4,
 "nbformat_minor": 5
}
